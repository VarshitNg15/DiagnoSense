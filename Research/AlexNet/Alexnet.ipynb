{
  "nbformat": 4,
  "nbformat_minor": 0,
  "metadata": {
    "colab": {
      "provenance": [],
      "gpuType": "T4"
    },
    "kernelspec": {
      "name": "python3",
      "display_name": "Python 3"
    },
    "language_info": {
      "name": "python"
    },
    "accelerator": "GPU"
  },
  "cells": [
    {
      "cell_type": "markdown",
      "source": [
        "# **Importing the Brain Tumor Dataset**"
      ],
      "metadata": {
        "id": "z4vRMsNrjVcz"
      }
    },
    {
      "cell_type": "code",
      "source": [
        "import kagglehub\n",
        "\n",
        "path = kagglehub.dataset_download(\"leaderandpiller/brain-tumor-segmentation\")\n",
        "print(\"Downloaded dataset to:\", path)\n",
        "\n",
        "import shutil\n",
        "import os\n",
        "\n",
        "destination = \"/content/data/brain_tumor_segmentation\"\n",
        "os.makedirs(destination, exist_ok=True)\n",
        "\n",
        "# Copy files from cache to desired location\n",
        "shutil.copytree(path, destination, dirs_exist_ok=True)\n",
        "\n",
        "print(\"Dataset copied to:\", destination)"
      ],
      "metadata": {
        "colab": {
          "base_uri": "https://localhost:8080/"
        },
        "id": "-K717hFTjcEO",
        "outputId": "4b86c687-6095-44fb-d69e-93f80292995e"
      },
      "execution_count": null,
      "outputs": [
        {
          "output_type": "stream",
          "name": "stdout",
          "text": [
            "Downloaded dataset to: /kaggle/input/brain-tumor-segmentation\n",
            "Dataset copied to: /content/data/brain_tumor_segmentation\n"
          ]
        }
      ]
    },
    {
      "cell_type": "markdown",
      "source": [
        "# **AlexNet Model without compression**"
      ],
      "metadata": {
        "id": "f_OmW96ClH_R"
      }
    },
    {
      "cell_type": "code",
      "source": [
        "import os\n",
        "import torch\n",
        "import torch.nn as nn\n",
        "import torch.optim as optim\n",
        "from torch.utils.data import Dataset, DataLoader\n",
        "from torchvision import transforms\n",
        "from PIL import Image\n",
        "import matplotlib.pyplot as plt\n",
        "from sklearn.metrics import classification_report, confusion_matrix\n",
        "from torch.cuda.amp import autocast, GradScaler\n",
        "import torch.backends.cudnn as cudnn"
      ],
      "metadata": {
        "id": "0ZgyxtzKmRq3"
      },
      "execution_count": 115,
      "outputs": []
    },
    {
      "cell_type": "code",
      "source": [
        "cudnn.benchmark = True\n",
        "\n",
        "NUM_CLASSES = 2\n",
        "BATCH_SIZE = 128\n",
        "NUM_EPOCHS = 10\n",
        "LEARNING_RATE = 0.001\n",
        "MOMENTUM = 0.9\n",
        "WEIGHT_DECAY = 0.0005\n",
        "NUM_WORKERS = 4  # Number of workers for data loading\n",
        "DEVICE = torch.device('cuda' if torch.cuda.is_available() else 'cpu')\n",
        "DATA_PATH = \"/content/data/brain_tumor_segmentation\""
      ],
      "metadata": {
        "id": "eiuahAqEmVNd"
      },
      "execution_count": 116,
      "outputs": []
    },
    {
      "cell_type": "code",
      "source": [
        "if torch.cuda.is_available():\n",
        "    print(f\"Using GPU: {torch.cuda.get_device_name(0)}\")\n",
        "    print(f\"GPU Memory: {torch.cuda.get_device_properties(0).total_memory / 1024**3:.2f} GB\")\n",
        "    torch.cuda.empty_cache()\n",
        "    torch.cuda.memory.set_per_process_memory_fraction(0.9)"
      ],
      "metadata": {
        "id": "oK3zgbb5mZFJ",
        "colab": {
          "base_uri": "https://localhost:8080/"
        },
        "outputId": "1768c795-5c70-4bf0-ee10-d213e442f818"
      },
      "execution_count": 117,
      "outputs": [
        {
          "output_type": "stream",
          "name": "stdout",
          "text": [
            "Using GPU: Tesla T4\n",
            "GPU Memory: 14.74 GB\n"
          ]
        }
      ]
    },
    {
      "cell_type": "code",
      "source": [
        "class AlexNetOriginal(nn.Module):\n",
        "    def __init__(self):  # 1000 classes for ImageNet-style output\n",
        "        super(AlexNetOriginal, self).__init__()\n",
        "        self.features = nn.Sequential(\n",
        "            nn.Conv2d(3, 96, kernel_size=11, stride=4),\n",
        "            nn.ReLU(inplace=True),\n",
        "            nn.MaxPool2d(kernel_size=3, stride=2),\n",
        "\n",
        "            nn.Conv2d(96, 256, kernel_size=5),\n",
        "            nn.ReLU(inplace=True),\n",
        "            nn.MaxPool2d(kernel_size=3, stride=2),\n",
        "\n",
        "            nn.Conv2d(256, 384, kernel_size=3),\n",
        "            nn.ReLU(inplace=True),\n",
        "\n",
        "            nn.Conv2d(384, 384, kernel_size=3),\n",
        "            nn.ReLU(inplace=True),\n",
        "\n",
        "            nn.Conv2d(384, 256, kernel_size=3),\n",
        "            nn.ReLU(inplace=True),\n",
        "            nn.MaxPool2d(kernel_size=3, stride=2),\n",
        "        )\n",
        "\n",
        "        dummy_input = torch.randn(1, 3, 227, 227) # Create a dummy input tensor with the expected shape\n",
        "        with torch.no_grad():\n",
        "            output_features = self.features(dummy_input) # Pass the dummy input through the features layers\n",
        "        output_features_size = output_features.view(-1).shape[0]\n",
        "\n",
        "        self.classifier = nn.Sequential(\n",
        "            nn.Dropout(),\n",
        "            nn.Linear(output_features_size, 4096),\n",
        "            nn.ReLU(inplace=True),\n",
        "\n",
        "            nn.Dropout(),\n",
        "            nn.Linear(4096, 4096),\n",
        "            nn.ReLU(inplace=True),\n",
        "\n",
        "            nn.Linear(4096, 1000)             # Softmax for probabilities\n",
        "        )\n",
        "\n",
        "    def forward(self, x):\n",
        "        x = self.features(x)\n",
        "        x = x.view(x.size(0), -1)\n",
        "        x = self.classifier(x)\n",
        "        return x"
      ],
      "metadata": {
        "id": "3ySDUdW_mdPx"
      },
      "execution_count": 141,
      "outputs": []
    },
    {
      "cell_type": "code",
      "source": [
        "class BrainTumorDataset(Dataset):\n",
        "    def __init__(self, root_dir, transform=None):\n",
        "        self.transform = transform\n",
        "        self.images, self.labels = [], []\n",
        "\n",
        "        # Updated to handle the specific directory structure\n",
        "        for label, class_name in enumerate(['NO', 'YES']):\n",
        "            folder = os.path.join(root_dir, f'{class_name}-20200502T082251Z-001', class_name)\n",
        "            if not os.path.exists(folder):\n",
        "                folder = os.path.join(root_dir, f'{class_name}-20200502T075011Z-001', class_name)\n",
        "\n",
        "            if os.path.exists(folder):\n",
        "                for img_name in os.listdir(folder):\n",
        "                    if img_name.endswith(('.jpg', '.jpeg', '.png')):\n",
        "                        self.images.append(os.path.join(folder, img_name))\n",
        "                        self.labels.append(label)\n",
        "                print(f\"Found {len([f for f in os.listdir(folder) if f.endswith(('.jpg', '.jpeg', '.png'))])} images in {class_name} class\")\n",
        "            else:\n",
        "                print(f\"Warning: Folder not found for class '{class_name}' at {folder}\")\n",
        "\n",
        "        print(f\"Found total of {len(self.images)} images in the dataset.\")\n",
        "\n",
        "    def __len__(self):\n",
        "        return len(self.images)\n",
        "\n",
        "    def __getitem__(self, idx):\n",
        "        img = Image.open(self.images[idx]).convert('RGB')\n",
        "        if self.transform:\n",
        "            img = self.transform(img)\n",
        "        return img, self.labels[idx]"
      ],
      "metadata": {
        "id": "4rECxGKPmkTF"
      },
      "execution_count": 127,
      "outputs": []
    },
    {
      "cell_type": "code",
      "source": [
        "transform = transforms.Compose([\n",
        "    transforms.Resize((227, 227)),\n",
        "    transforms.ToTensor(),\n",
        "    transforms.Normalize(mean=[0.485, 0.456, 0.406],\n",
        "                         std=[0.229, 0.224, 0.225])\n",
        "])\n",
        "\n",
        "# Initialize dataset\n",
        "dataset = BrainTumorDataset(DATA_PATH, transform=transform)\n",
        "print(f\"Total images found: {len(dataset)}\")\n",
        "\n",
        "if len(dataset) == 0:\n",
        "    raise RuntimeError(\"Dataset is empty. Check the folder path and content.\")\n",
        "\n",
        "# Split\n",
        "train_size = int(0.8 * len(dataset))\n",
        "val_size = len(dataset) - train_size\n",
        "train_dataset, val_dataset = torch.utils.data.random_split(dataset, [train_size, val_size])\n",
        "\n",
        "# Dataloader safe setup\n",
        "try:\n",
        "    train_loader = DataLoader(\n",
        "        train_dataset,\n",
        "        batch_size=BATCH_SIZE,\n",
        "        shuffle=True,\n",
        "        num_workers=NUM_WORKERS,\n",
        "        pin_memory=True,\n",
        "        persistent_workers=True  # Consider disabling in Colab\n",
        "    )\n",
        "\n",
        "    val_loader = DataLoader(\n",
        "        val_dataset,\n",
        "        batch_size=BATCH_SIZE,\n",
        "        shuffle=False,\n",
        "        num_workers=NUM_WORKERS,\n",
        "        pin_memory=True,\n",
        "        persistent_workers=True\n",
        "    )\n",
        "\n",
        "except Exception as e:\n",
        "    print(\"⚠️ Error using multiple workers, falling back to single-threaded loading.\")\n",
        "    print(f\"Error details: {e}\")\n",
        "    train_loader = DataLoader(train_dataset, batch_size=BATCH_SIZE, shuffle=True, num_workers=0)\n",
        "    val_loader = DataLoader(val_dataset, batch_size=BATCH_SIZE, shuffle=False, num_workers=0)"
      ],
      "metadata": {
        "colab": {
          "base_uri": "https://localhost:8080/"
        },
        "id": "YVb53hYbmlZx",
        "outputId": "a14de82d-451c-417c-d46c-710cd56a6df1"
      },
      "execution_count": 128,
      "outputs": [
        {
          "output_type": "stream",
          "name": "stdout",
          "text": [
            "Found 6159 images in NO class\n",
            "Found 5504 images in YES class\n",
            "Found total of 11663 images in the dataset.\n",
            "Total images found: 11663\n"
          ]
        }
      ]
    },
    {
      "cell_type": "code",
      "source": [
        "def train(model, criterion, optimizer):\n",
        "    model.train()\n",
        "    total_loss, correct, total = 0, 0, 0\n",
        "\n",
        "    for imgs, labels in train_loader:\n",
        "        imgs, labels = imgs.to(DEVICE), labels.to(DEVICE)\n",
        "\n",
        "        outputs = model(imgs)\n",
        "        loss = criterion(outputs, labels)\n",
        "\n",
        "        optimizer.zero_grad()\n",
        "        loss.backward()\n",
        "        optimizer.step()\n",
        "\n",
        "        total_loss += loss.item()\n",
        "        _, preds = outputs.max(1)\n",
        "        correct += (preds == labels).sum().item()\n",
        "        total += labels.size(0)\n",
        "\n",
        "    return total_loss / len(train_loader), 100 * correct / total"
      ],
      "metadata": {
        "id": "HB9EQAdWlTwe"
      },
      "execution_count": 129,
      "outputs": []
    },
    {
      "cell_type": "code",
      "source": [
        "def evaluate(model, criterion):\n",
        "    model.eval()\n",
        "    total_loss, correct, total = 0, 0, 0\n",
        "    all_preds, all_labels = [], []\n",
        "\n",
        "    with torch.no_grad():\n",
        "        for imgs, labels in val_loader:\n",
        "            imgs, labels = imgs.to(DEVICE), labels.to(DEVICE)\n",
        "            outputs = model(imgs)\n",
        "            loss = criterion(outputs, labels)\n",
        "\n",
        "            total_loss += loss.item()\n",
        "            _, preds = outputs.max(1)\n",
        "            correct += (preds == labels).sum().item()\n",
        "            total += labels.size(0)\n",
        "\n",
        "            all_preds += preds.cpu().tolist()\n",
        "            all_labels += labels.cpu().tolist()\n",
        "\n",
        "    return total_loss / len(val_loader), 100 * correct / total, all_preds, all_labels\n"
      ],
      "metadata": {
        "id": "nKdi2-gtmYKY"
      },
      "execution_count": 130,
      "outputs": []
    },
    {
      "cell_type": "code",
      "source": [
        "def calculate_class_weights(dataset):\n",
        "    class_counts = [0] * NUM_CLASSES\n",
        "    for _, label in dataset:\n",
        "        class_counts[label] += 1\n",
        "    total_samples = sum(class_counts)\n",
        "    class_weights = [total_samples / (len(class_counts) * count) for count in class_counts]\n",
        "    return torch.FloatTensor(class_weights)\n"
      ],
      "metadata": {
        "id": "TuFoyJV0sN0c"
      },
      "execution_count": 131,
      "outputs": []
    },
    {
      "cell_type": "code",
      "source": [
        "model = AlexNetOriginal().to(DEVICE)\n",
        "class_weights = calculate_class_weights(dataset)\n",
        "criterion = nn.CrossEntropyLoss()  # no weight for 1000-class model\n",
        "optimizer = optim.SGD(model.parameters(), lr=LEARNING_RATE, momentum=MOMENTUM, weight_decay=WEIGHT_DECAY)\n",
        "\n",
        "train_losses, val_losses, train_accs, val_accs = [], [], [], []\n",
        "best_val_acc = 0\n",
        "\n",
        "print(\"\\nStarting training...\")\n",
        "print(f\"Class weights: {class_weights.tolist()}\")\n",
        "\n",
        "for epoch in range(NUM_EPOCHS):\n",
        "    t_loss, t_acc = train(model, criterion, optimizer)\n",
        "    v_loss, v_acc, preds, labels = evaluate(model, criterion)\n",
        "\n",
        "    train_losses.append(t_loss)\n",
        "    val_losses.append(v_loss)\n",
        "    train_accs.append(t_acc)\n",
        "    val_accs.append(v_acc)\n",
        "\n",
        "    if v_acc > best_val_acc:\n",
        "        best_val_acc = v_acc\n",
        "        torch.save(model.state_dict(), 'best_alexnet_model.pth')\n",
        "\n",
        "    print(f\"Epoch {epoch+1}/{NUM_EPOCHS} | Train Loss: {t_loss:.4f}, Acc: {t_acc:.2f}% | Val Loss: {v_loss:.4f}, Acc: {v_acc:.2f}%\")"
      ],
      "metadata": {
        "id": "oqz-9mwgsRly",
        "colab": {
          "base_uri": "https://localhost:8080/"
        },
        "outputId": "07e68d82-3c0e-4ea2-e703-7028d493f909"
      },
      "execution_count": 142,
      "outputs": [
        {
          "output_type": "stream",
          "name": "stdout",
          "text": [
            "\n",
            "Starting training...\n",
            "Class weights: [0.9468258023262024, 1.059502124786377]\n",
            "Epoch 1/10 | Train Loss: 4.7580, Acc: 44.12% | Val Loss: 0.7173, Acc: 59.02%\n",
            "Epoch 2/10 | Train Loss: 0.7569, Acc: 52.60% | Val Loss: 0.7003, Acc: 53.15%\n",
            "Epoch 3/10 | Train Loss: 0.6882, Acc: 53.98% | Val Loss: 0.6866, Acc: 69.40%\n",
            "Epoch 4/10 | Train Loss: 0.6834, Acc: 55.63% | Val Loss: 0.6819, Acc: 69.74%\n",
            "Epoch 5/10 | Train Loss: 0.6839, Acc: 56.63% | Val Loss: 0.6769, Acc: 59.67%\n",
            "Epoch 6/10 | Train Loss: 0.6701, Acc: 59.42% | Val Loss: 0.7006, Acc: 46.81%\n",
            "Epoch 7/10 | Train Loss: 0.6686, Acc: 59.14% | Val Loss: 0.6358, Acc: 71.45%\n",
            "Epoch 8/10 | Train Loss: 0.6601, Acc: 61.33% | Val Loss: 0.6346, Acc: 72.82%\n",
            "Epoch 9/10 | Train Loss: 0.6409, Acc: 64.16% | Val Loss: 0.5906, Acc: 74.07%\n",
            "Epoch 10/10 | Train Loss: 0.6071, Acc: 67.87% | Val Loss: 0.5459, Acc: 74.24%\n"
          ]
        }
      ]
    },
    {
      "cell_type": "code",
      "source": [
        "print(\"\\nClassification Report:\\n\", classification_report(labels, preds))\n",
        "print(\"Confusion Matrix:\\n\", confusion_matrix(labels, preds))"
      ],
      "metadata": {
        "colab": {
          "base_uri": "https://localhost:8080/"
        },
        "id": "wB61NXbo5DMh",
        "outputId": "657271b3-dc06-47c6-d237-76b7f7fbefd8"
      },
      "execution_count": 143,
      "outputs": [
        {
          "output_type": "stream",
          "name": "stdout",
          "text": [
            "\n",
            "Classification Report:\n",
            "               precision    recall  f1-score   support\n",
            "\n",
            "           0       0.71      0.86      0.78      1240\n",
            "           1       0.79      0.61      0.69      1093\n",
            "\n",
            "    accuracy                           0.74      2333\n",
            "   macro avg       0.75      0.73      0.73      2333\n",
            "weighted avg       0.75      0.74      0.74      2333\n",
            "\n",
            "Confusion Matrix:\n",
            " [[1069  171]\n",
            " [ 430  663]]\n"
          ]
        }
      ]
    },
    {
      "cell_type": "code",
      "source": [
        "plt.figure(figsize=(12, 4))\n",
        "plt.subplot(1, 2, 1)\n",
        "plt.plot(train_losses, label='Train Loss')\n",
        "plt.plot(val_losses, label='Validation Loss')\n",
        "plt.title(\"Loss over Epochs\")\n",
        "plt.xlabel(\"Epoch\")\n",
        "plt.ylabel(\"Loss\")\n",
        "plt.legend()\n",
        "\n",
        "plt.subplot(1, 2, 2)\n",
        "plt.plot(train_accs, label='Train Acc')\n",
        "plt.plot(val_accs, label='Validation Acc')\n",
        "plt.title(\"Accuracy over Epochs\")\n",
        "plt.xlabel(\"Epoch\")\n",
        "plt.ylabel(\"Accuracy (%)\")\n",
        "plt.legend()\n",
        "\n",
        "plt.tight_layout()\n",
        "plt.savefig(\"alexnet_training_metrics.png\")\n",
        "plt.show()"
      ],
      "metadata": {
        "colab": {
          "base_uri": "https://localhost:8080/",
          "height": 315
        },
        "id": "EnsWa42n5Gon",
        "outputId": "f6a391df-6ba1-48eb-dbcf-8b299c062907"
      },
      "execution_count": 144,
      "outputs": [
        {
          "output_type": "display_data",
          "data": {
            "text/plain": [
              "<Figure size 1200x400 with 2 Axes>"
            ],
            "image/png": "[encoded data removed]"
          },
          "metadata": {}
        }
      ]
    },
    {
      "cell_type": "code",
      "source": [
        "print(f\"Final Validation Accuracy: {val_accs[-1]:.2f}%\")\n",
        "\n",
        "avg_val_acc = sum(val_accs) / len(val_accs)\n",
        "print(f\"Average Validation Accuracy: {avg_val_acc:.2f}%\")\n"
      ],
      "metadata": {
        "colab": {
          "base_uri": "https://localhost:8080/"
        },
        "id": "SViygSNrMVPi",
        "outputId": "55f16a4e-b8f5-4948-a317-8bb4eed966dd"
      },
      "execution_count": 149,
      "outputs": [
        {
          "output_type": "stream",
          "name": "stdout",
          "text": [
            "Final Validation Accuracy: 74.24%\n",
            "Average Validation Accuracy: 65.04%\n"
          ]
        }
      ]
    },
    {
      "cell_type": "code",
      "source": [],
      "metadata": {
        "id": "pIdioE2XTrnJ"
      },
      "execution_count": null,
      "outputs": []
    }
  ]
}